{
  "cells": [
    {
      "cell_type": "markdown",
      "metadata": {
        "id": "891288ee-37d3-42e8-8c0b-680b4bceddc4"
      },
      "source": [
        "<center>\n",
        "    <img src=\"https://cf-courses-data.s3.us.cloud-object-storage.appdomain.cloud/IBMDeveloperSkillsNetwork-PY0101EN-SkillsNetwork/IDSNlogo.png\" width=\"300\" alt=\"cognitiveclass.ai logo\">\n",
        "</center>\n",
        "\n",
        "\n",
        "# Machine Learning Foundation\n",
        "\n",
        "## Section 2, Part a: Regression Intro: Transforming Target\n"
      ]
    },
    {
      "cell_type": "markdown",
      "metadata": {
        "id": "f72096cc-c608-4a06-a29e-9ff349a85628"
      },
      "source": [
        "## Learning objectives\n",
        "\n",
        "By the end of this lesson, you will be able to:\n",
        "\n",
        "* Apply transformations to make target variable more normally distributed for Regression\n",
        "* Apply inverse transformations to be able to use these in a Regression context\n"
      ]
    },
    {
      "cell_type": "code",
      "metadata": {
        "id": "7f26646f-4c51-4289-b757-79521aad19a1",
        "colab": {
          "base_uri": "https://localhost:8080/"
        },
        "outputId": "595bba9d-3da6-4be7-8c9d-ce4e645aaf1f"
      },
      "outputs": [
        {
          "output_type": "stream",
          "name": "stdout",
          "text": [
            "Requirement already satisfied: numpy in /usr/local/lib/python3.10/dist-packages (1.26.4)\n",
            "Requirement already satisfied: pandas in /usr/local/lib/python3.10/dist-packages (2.2.2)\n",
            "Requirement already satisfied: numpy>=1.22.4 in /usr/local/lib/python3.10/dist-packages (from pandas) (1.26.4)\n",
            "Requirement already satisfied: python-dateutil>=2.8.2 in /usr/local/lib/python3.10/dist-packages (from pandas) (2.8.2)\n",
            "Requirement already satisfied: pytz>=2020.1 in /usr/local/lib/python3.10/dist-packages (from pandas) (2024.2)\n",
            "Requirement already satisfied: tzdata>=2022.7 in /usr/local/lib/python3.10/dist-packages (from pandas) (2024.2)\n",
            "Requirement already satisfied: six>=1.5 in /usr/local/lib/python3.10/dist-packages (from python-dateutil>=2.8.2->pandas) (1.16.0)\n",
            "Requirement already satisfied: matplotlib in /usr/local/lib/python3.10/dist-packages (3.8.0)\n",
            "Requirement already satisfied: contourpy>=1.0.1 in /usr/local/lib/python3.10/dist-packages (from matplotlib) (1.3.0)\n",
            "Requirement already satisfied: cycler>=0.10 in /usr/local/lib/python3.10/dist-packages (from matplotlib) (0.12.1)\n",
            "Requirement already satisfied: fonttools>=4.22.0 in /usr/local/lib/python3.10/dist-packages (from matplotlib) (4.54.1)\n",
            "Requirement already satisfied: kiwisolver>=1.0.1 in /usr/local/lib/python3.10/dist-packages (from matplotlib) (1.4.7)\n",
            "Requirement already satisfied: numpy<2,>=1.21 in /usr/local/lib/python3.10/dist-packages (from matplotlib) (1.26.4)\n",
            "Requirement already satisfied: packaging>=20.0 in /usr/local/lib/python3.10/dist-packages (from matplotlib) (24.1)\n",
            "Requirement already satisfied: pillow>=6.2.0 in /usr/local/lib/python3.10/dist-packages (from matplotlib) (10.4.0)\n",
            "Requirement already satisfied: pyparsing>=2.3.1 in /usr/local/lib/python3.10/dist-packages (from matplotlib) (3.2.0)\n",
            "Requirement already satisfied: python-dateutil>=2.7 in /usr/local/lib/python3.10/dist-packages (from matplotlib) (2.8.2)\n",
            "Requirement already satisfied: six>=1.5 in /usr/local/lib/python3.10/dist-packages (from python-dateutil>=2.7->matplotlib) (1.16.0)\n",
            "Requirement already satisfied: scipy in /usr/local/lib/python3.10/dist-packages (1.13.1)\n",
            "Requirement already satisfied: numpy<2.3,>=1.22.4 in /usr/local/lib/python3.10/dist-packages (from scipy) (1.26.4)\n",
            "Requirement already satisfied: scikit-learn in /usr/local/lib/python3.10/dist-packages (1.5.2)\n",
            "Requirement already satisfied: numpy>=1.19.5 in /usr/local/lib/python3.10/dist-packages (from scikit-learn) (1.26.4)\n",
            "Requirement already satisfied: scipy>=1.6.0 in /usr/local/lib/python3.10/dist-packages (from scikit-learn) (1.13.1)\n",
            "Requirement already satisfied: joblib>=1.2.0 in /usr/local/lib/python3.10/dist-packages (from scikit-learn) (1.4.2)\n",
            "Requirement already satisfied: threadpoolctl>=3.1.0 in /usr/local/lib/python3.10/dist-packages (from scikit-learn) (3.5.0)\n"
          ]
        }
      ],
      "source": [
        "!pip install numpy\n",
        "!pip install pandas\n",
        "!pip install matplotlib\n",
        "!pip install scipy\n",
        "!pip install scikit-learn"
      ],
      "execution_count": 3
    },
    {
      "cell_type": "markdown",
      "source": [
        "Explanation\n",
        "def warn(*args, **kwargs): pass: This defines a function called warn that accepts any arguments (*args for positional arguments and **kwargs for keyword arguments) but does nothing (pass means “do nothing”).\n",
        "warnings.warn = warn: This line assigns the custom warn function to warnings.warn. So, every time warnings.warn is called, it actually runs the empty warn function defined above, which does nothing.\n",
        "Why Use This?\n",
        "This code effectively suppresses all warnings in the script. By overriding warnings.warn, you prevent any warnings from being printed, which might be helpful when you want a clean output without warning messages (e.g., when you're testing or debugging and already aware of potential issues).\n",
        "\n",
        "However, be careful with this, as it can hide useful warnings that might indicate important issues in your code!"
      ],
      "metadata": {
        "id": "7SqiK1FPPuEh"
      }
    },
    {
      "cell_type": "code",
      "metadata": {
        "id": "953bcfa2-387f-4bf6-abf4-5545f33e6512",
        "colab": {
          "base_uri": "https://localhost:8080/",
          "height": 35
        },
        "outputId": "0bd37932-8857-4932-a13e-f04375270a7e"
      },
      "outputs": [
        {
          "output_type": "execute_result",
          "data": {
            "text/plain": [
              "'\\ndef warnfun(*args, **kwargs):\\n    pass\\nimport warnings\\nwarnings.warn= warnfun\\n'"
            ],
            "application/vnd.google.colaboratory.intrinsic+json": {
              "type": "string"
            }
          },
          "metadata": {},
          "execution_count": 2
        }
      ],
      "source": [
        "import numpy as np\n",
        "import pandas as pd\n",
        "import matplotlib.pyplot as plt\n",
        "%matplotlib inline\n",
        "\n",
        "\n",
        "# Surpress warnings:\n",
        "'''\n",
        "def warnfun(*args, **kwargs):\n",
        "    pass\n",
        "import warnings\n",
        "warnings.warn= warnfun\n",
        "'''"
      ],
      "execution_count": 2
    },
    {
      "cell_type": "markdown",
      "metadata": {
        "id": "3ca018a6-dc91-458e-b2ac-da28c65d2282"
      },
      "source": [
        "In the following cells we will load the data and define some useful plotting functions.\n"
      ]
    },
    {
      "cell_type": "code",
      "metadata": {
        "id": "f7a2c815-4754-4141-966e-fe964309fea4"
      },
      "outputs": [],
      "source": [
        "np.random.seed(72018)\n",
        "\n",
        "def to_2d(array):\n",
        "    return array.reshape(array.shape[0], -1)\n",
        "\n",
        "def plot_exponential_data():\n",
        "    data = np.exp(np.random.normal(size=1000))\n",
        "    plt.hist(data)\n",
        "    plt.show()\n",
        "    return data\n",
        "\n",
        "def plot_square_normal_data():\n",
        "    data = np.square(np.random.normal(loc=5, size=1000))\n",
        "    plt.hist(data)\n",
        "    plt.show()\n",
        "    return data\n",
        ""
      ],
      "execution_count": 28
    },
    {
      "cell_type": "code",
      "metadata": {
        "id": "77905866-5313-415b-ac5b-c8e66cbd221f",
        "colab": {
          "base_uri": "https://localhost:8080/"
        },
        "outputId": "440c0104-f87f-434b-8f77-7b170e39818b"
      },
      "outputs": [
        {
          "output_type": "stream",
          "name": "stdout",
          "text": [
            "--2024-11-12 16:49:20--  https://cf-courses-data.s3.us.cloud-object-storage.appdomain.cloud/IBM-ML240EN-SkillsNetwork/labs/data/boston_housing_clean.pickle\n",
            "Resolving cf-courses-data.s3.us.cloud-object-storage.appdomain.cloud (cf-courses-data.s3.us.cloud-object-storage.appdomain.cloud)... 169.45.118.108\n",
            "Connecting to cf-courses-data.s3.us.cloud-object-storage.appdomain.cloud (cf-courses-data.s3.us.cloud-object-storage.appdomain.cloud)|169.45.118.108|:443... connected.\n",
            "HTTP request sent, awaiting response... 200 OK\n",
            "Length: 60056 (59K) [binary/octet-stream]\n",
            "Saving to: ‘boston_housing_clean.pickle’\n",
            "\n",
            "boston_housing_clea 100%[===================>]  58.65K  --.-KB/s    in 0.1s    \n",
            "\n",
            "2024-11-12 16:49:20 (570 KB/s) - ‘boston_housing_clean.pickle’ saved [60056/60056]\n",
            "\n"
          ]
        }
      ],
      "source": [
        "!wget \"https://cf-courses-data.s3.us.cloud-object-storage.appdomain.cloud/IBM-ML240EN-SkillsNetwork/labs/data/boston_housing_clean.pickle\""
      ],
      "execution_count": 29
    },
    {
      "cell_type": "markdown",
      "metadata": {
        "id": "ff9a021f-470c-4b11-8dab-d278f0283578"
      },
      "source": [
        "### Loading the Boston Housing Data\n"
      ]
    },
    {
      "cell_type": "code",
      "metadata": {
        "id": "d68620b1-0cec-49e2-b5d0-72d51fd4dab1",
        "colab": {
          "base_uri": "https://localhost:8080/"
        },
        "outputId": "665aec7e-7f9a-4076-9b5e-98b93eda680c"
      },
      "outputs": [
        {
          "output_type": "stream",
          "name": "stdout",
          "text": [
            "Type boston_data is : <class 'pandas.core.frame.DataFrame'>\n",
            "Type boston_description is : <class 'str'>\n"
          ]
        }
      ],
      "source": [
        "\n",
        "with open('boston_housing_clean.pickle', 'rb') as to_read:\n",
        "    boston = pd.read_pickle(to_read)\n",
        "    #print(type(boston)) # will be return the class of boston.\n",
        "    #print(len(boston)) #return the length of the dictionary.\n",
        "    #print(boston.keys()) # method will return a list of all the keys in the dictionary.\n",
        "    #print(boston.items()) # method will return a list of all the values in the dictionary.\n",
        "    #print(boston.values()) # method will return each item in a dictionary, as tuples in a list.\n",
        "\n",
        "boston_data = boston['dataframe'] #dataframe\n",
        "boston_description = boston['description'] # string\n",
        "print('Type boston_data is :',type(boston_data))\n",
        "print('Type boston_description is :',type(boston_description))"
      ],
      "execution_count": 46
    },
    {
      "cell_type": "code",
      "source": [
        "description_boston={'CRIM':'per capita crime rate by town',\n",
        "                    'ZN':'proportion of residential land zoned for lots over 25,000 sq.ft.',\n",
        "                    'INDUS':'proportion of non-retail business acres per town',\n",
        "                   'CHAS':'Charles River dummy variable (= 1 if tract bounds river; 0 otherwise)',\n",
        "                    'NOX':'nitric oxides concentration (parts per 10 million)',\n",
        "                    'RM':'average number of rooms per dwelling',\n",
        "                    'AGE':'proportion of owner-occupied units built prior to 1940',\n",
        "                    'DIS':'weighted distances to five Boston employment centres',\n",
        "                    'RAD':'index of accessibility to radial highways',\n",
        "                    'TAX':'full-value property-tax rate per $10,000',\n",
        "                    'PTRATIO':'pupil-teacher ratio by town',\n",
        "                    'B':'1000(Bk - 0.63)^2 where Bk is the proportion of blacks by town',\n",
        "                    'LSTAT':'lower status of the population',\n",
        "                    'MEDV':'Median value of owner-occupied homes in $1000s'}\n",
        "print(type(description_boston))"
      ],
      "metadata": {
        "colab": {
          "base_uri": "https://localhost:8080/"
        },
        "id": "E16hw9S3U7Ps",
        "outputId": "8e858a32-5222-45d1-fa5b-42a8f0b4d3be"
      },
      "execution_count": 48,
      "outputs": [
        {
          "output_type": "stream",
          "name": "stdout",
          "text": [
            "<class 'dict'>\n"
          ]
        }
      ]
    },
    {
      "cell_type": "code",
      "source": [
        "len(description_boston)"
      ],
      "metadata": {
        "colab": {
          "base_uri": "https://localhost:8080/"
        },
        "id": "ObGDLXD8_3N5",
        "outputId": "c2c70be6-f64e-4cb3-c0cd-8b9b66e85684"
      },
      "execution_count": 114,
      "outputs": [
        {
          "output_type": "execute_result",
          "data": {
            "text/plain": [
              "14"
            ]
          },
          "metadata": {},
          "execution_count": 114
        }
      ]
    },
    {
      "cell_type": "code",
      "metadata": {
        "id": "69d66928-b736-46c3-9ec0-faecb7bcc614",
        "colab": {
          "base_uri": "https://localhost:8080/",
          "height": 520
        },
        "outputId": "1228e4f9-9fee-4f32-8152-fa59fede8199"
      },
      "outputs": [
        {
          "output_type": "execute_result",
          "data": {
            "text/plain": [
              "       CRIM    ZN  INDUS  CHAS    NOX     RM    AGE     DIS  RAD    TAX  \\\n",
              "0   0.00632  18.0   2.31   0.0  0.538  6.575   65.2  4.0900  1.0  296.0   \n",
              "1   0.02731   0.0   7.07   0.0  0.469  6.421   78.9  4.9671  2.0  242.0   \n",
              "2   0.02729   0.0   7.07   0.0  0.469  7.185   61.1  4.9671  2.0  242.0   \n",
              "3   0.03237   0.0   2.18   0.0  0.458  6.998   45.8  6.0622  3.0  222.0   \n",
              "4   0.06905   0.0   2.18   0.0  0.458  7.147   54.2  6.0622  3.0  222.0   \n",
              "5   0.02985   0.0   2.18   0.0  0.458  6.430   58.7  6.0622  3.0  222.0   \n",
              "6   0.08829  12.5   7.87   0.0  0.524  6.012   66.6  5.5605  5.0  311.0   \n",
              "7   0.14455  12.5   7.87   0.0  0.524  6.172   96.1  5.9505  5.0  311.0   \n",
              "8   0.21124  12.5   7.87   0.0  0.524  5.631  100.0  6.0821  5.0  311.0   \n",
              "9   0.17004  12.5   7.87   0.0  0.524  6.004   85.9  6.5921  5.0  311.0   \n",
              "10  0.22489  12.5   7.87   0.0  0.524  6.377   94.3  6.3467  5.0  311.0   \n",
              "11  0.11747  12.5   7.87   0.0  0.524  6.009   82.9  6.2267  5.0  311.0   \n",
              "12  0.09378  12.5   7.87   0.0  0.524  5.889   39.0  5.4509  5.0  311.0   \n",
              "13  0.62976   0.0   8.14   0.0  0.538  5.949   61.8  4.7075  4.0  307.0   \n",
              "14  0.63796   0.0   8.14   0.0  0.538  6.096   84.5  4.4619  4.0  307.0   \n",
              "\n",
              "    PTRATIO       B  LSTAT  MEDV  \n",
              "0      15.3  396.90   4.98  24.0  \n",
              "1      17.8  396.90   9.14  21.6  \n",
              "2      17.8  392.83   4.03  34.7  \n",
              "3      18.7  394.63   2.94  33.4  \n",
              "4      18.7  396.90   5.33  36.2  \n",
              "5      18.7  394.12   5.21  28.7  \n",
              "6      15.2  395.60  12.43  22.9  \n",
              "7      15.2  396.90  19.15  27.1  \n",
              "8      15.2  386.63  29.93  16.5  \n",
              "9      15.2  386.71  17.10  18.9  \n",
              "10     15.2  392.52  20.45  15.0  \n",
              "11     15.2  396.90  13.27  18.9  \n",
              "12     15.2  390.50  15.71  21.7  \n",
              "13     21.0  396.90   8.26  20.4  \n",
              "14     21.0  380.02  10.26  18.2  "
            ],
            "text/html": [
              "\n",
              "  <div id=\"df-d0b70de2-5def-4bb3-a52d-fa6148bc8cd8\" class=\"colab-df-container\">\n",
              "    <div>\n",
              "<style scoped>\n",
              "    .dataframe tbody tr th:only-of-type {\n",
              "        vertical-align: middle;\n",
              "    }\n",
              "\n",
              "    .dataframe tbody tr th {\n",
              "        vertical-align: top;\n",
              "    }\n",
              "\n",
              "    .dataframe thead th {\n",
              "        text-align: right;\n",
              "    }\n",
              "</style>\n",
              "<table border=\"1\" class=\"dataframe\">\n",
              "  <thead>\n",
              "    <tr style=\"text-align: right;\">\n",
              "      <th></th>\n",
              "      <th>CRIM</th>\n",
              "      <th>ZN</th>\n",
              "      <th>INDUS</th>\n",
              "      <th>CHAS</th>\n",
              "      <th>NOX</th>\n",
              "      <th>RM</th>\n",
              "      <th>AGE</th>\n",
              "      <th>DIS</th>\n",
              "      <th>RAD</th>\n",
              "      <th>TAX</th>\n",
              "      <th>PTRATIO</th>\n",
              "      <th>B</th>\n",
              "      <th>LSTAT</th>\n",
              "      <th>MEDV</th>\n",
              "    </tr>\n",
              "  </thead>\n",
              "  <tbody>\n",
              "    <tr>\n",
              "      <th>0</th>\n",
              "      <td>0.00632</td>\n",
              "      <td>18.0</td>\n",
              "      <td>2.31</td>\n",
              "      <td>0.0</td>\n",
              "      <td>0.538</td>\n",
              "      <td>6.575</td>\n",
              "      <td>65.2</td>\n",
              "      <td>4.0900</td>\n",
              "      <td>1.0</td>\n",
              "      <td>296.0</td>\n",
              "      <td>15.3</td>\n",
              "      <td>396.90</td>\n",
              "      <td>4.98</td>\n",
              "      <td>24.0</td>\n",
              "    </tr>\n",
              "    <tr>\n",
              "      <th>1</th>\n",
              "      <td>0.02731</td>\n",
              "      <td>0.0</td>\n",
              "      <td>7.07</td>\n",
              "      <td>0.0</td>\n",
              "      <td>0.469</td>\n",
              "      <td>6.421</td>\n",
              "      <td>78.9</td>\n",
              "      <td>4.9671</td>\n",
              "      <td>2.0</td>\n",
              "      <td>242.0</td>\n",
              "      <td>17.8</td>\n",
              "      <td>396.90</td>\n",
              "      <td>9.14</td>\n",
              "      <td>21.6</td>\n",
              "    </tr>\n",
              "    <tr>\n",
              "      <th>2</th>\n",
              "      <td>0.02729</td>\n",
              "      <td>0.0</td>\n",
              "      <td>7.07</td>\n",
              "      <td>0.0</td>\n",
              "      <td>0.469</td>\n",
              "      <td>7.185</td>\n",
              "      <td>61.1</td>\n",
              "      <td>4.9671</td>\n",
              "      <td>2.0</td>\n",
              "      <td>242.0</td>\n",
              "      <td>17.8</td>\n",
              "      <td>392.83</td>\n",
              "      <td>4.03</td>\n",
              "      <td>34.7</td>\n",
              "    </tr>\n",
              "    <tr>\n",
              "      <th>3</th>\n",
              "      <td>0.03237</td>\n",
              "      <td>0.0</td>\n",
              "      <td>2.18</td>\n",
              "      <td>0.0</td>\n",
              "      <td>0.458</td>\n",
              "      <td>6.998</td>\n",
              "      <td>45.8</td>\n",
              "      <td>6.0622</td>\n",
              "      <td>3.0</td>\n",
              "      <td>222.0</td>\n",
              "      <td>18.7</td>\n",
              "      <td>394.63</td>\n",
              "      <td>2.94</td>\n",
              "      <td>33.4</td>\n",
              "    </tr>\n",
              "    <tr>\n",
              "      <th>4</th>\n",
              "      <td>0.06905</td>\n",
              "      <td>0.0</td>\n",
              "      <td>2.18</td>\n",
              "      <td>0.0</td>\n",
              "      <td>0.458</td>\n",
              "      <td>7.147</td>\n",
              "      <td>54.2</td>\n",
              "      <td>6.0622</td>\n",
              "      <td>3.0</td>\n",
              "      <td>222.0</td>\n",
              "      <td>18.7</td>\n",
              "      <td>396.90</td>\n",
              "      <td>5.33</td>\n",
              "      <td>36.2</td>\n",
              "    </tr>\n",
              "    <tr>\n",
              "      <th>5</th>\n",
              "      <td>0.02985</td>\n",
              "      <td>0.0</td>\n",
              "      <td>2.18</td>\n",
              "      <td>0.0</td>\n",
              "      <td>0.458</td>\n",
              "      <td>6.430</td>\n",
              "      <td>58.7</td>\n",
              "      <td>6.0622</td>\n",
              "      <td>3.0</td>\n",
              "      <td>222.0</td>\n",
              "      <td>18.7</td>\n",
              "      <td>394.12</td>\n",
              "      <td>5.21</td>\n",
              "      <td>28.7</td>\n",
              "    </tr>\n",
              "    <tr>\n",
              "      <th>6</th>\n",
              "      <td>0.08829</td>\n",
              "      <td>12.5</td>\n",
              "      <td>7.87</td>\n",
              "      <td>0.0</td>\n",
              "      <td>0.524</td>\n",
              "      <td>6.012</td>\n",
              "      <td>66.6</td>\n",
              "      <td>5.5605</td>\n",
              "      <td>5.0</td>\n",
              "      <td>311.0</td>\n",
              "      <td>15.2</td>\n",
              "      <td>395.60</td>\n",
              "      <td>12.43</td>\n",
              "      <td>22.9</td>\n",
              "    </tr>\n",
              "    <tr>\n",
              "      <th>7</th>\n",
              "      <td>0.14455</td>\n",
              "      <td>12.5</td>\n",
              "      <td>7.87</td>\n",
              "      <td>0.0</td>\n",
              "      <td>0.524</td>\n",
              "      <td>6.172</td>\n",
              "      <td>96.1</td>\n",
              "      <td>5.9505</td>\n",
              "      <td>5.0</td>\n",
              "      <td>311.0</td>\n",
              "      <td>15.2</td>\n",
              "      <td>396.90</td>\n",
              "      <td>19.15</td>\n",
              "      <td>27.1</td>\n",
              "    </tr>\n",
              "    <tr>\n",
              "      <th>8</th>\n",
              "      <td>0.21124</td>\n",
              "      <td>12.5</td>\n",
              "      <td>7.87</td>\n",
              "      <td>0.0</td>\n",
              "      <td>0.524</td>\n",
              "      <td>5.631</td>\n",
              "      <td>100.0</td>\n",
              "      <td>6.0821</td>\n",
              "      <td>5.0</td>\n",
              "      <td>311.0</td>\n",
              "      <td>15.2</td>\n",
              "      <td>386.63</td>\n",
              "      <td>29.93</td>\n",
              "      <td>16.5</td>\n",
              "    </tr>\n",
              "    <tr>\n",
              "      <th>9</th>\n",
              "      <td>0.17004</td>\n",
              "      <td>12.5</td>\n",
              "      <td>7.87</td>\n",
              "      <td>0.0</td>\n",
              "      <td>0.524</td>\n",
              "      <td>6.004</td>\n",
              "      <td>85.9</td>\n",
              "      <td>6.5921</td>\n",
              "      <td>5.0</td>\n",
              "      <td>311.0</td>\n",
              "      <td>15.2</td>\n",
              "      <td>386.71</td>\n",
              "      <td>17.10</td>\n",
              "      <td>18.9</td>\n",
              "    </tr>\n",
              "    <tr>\n",
              "      <th>10</th>\n",
              "      <td>0.22489</td>\n",
              "      <td>12.5</td>\n",
              "      <td>7.87</td>\n",
              "      <td>0.0</td>\n",
              "      <td>0.524</td>\n",
              "      <td>6.377</td>\n",
              "      <td>94.3</td>\n",
              "      <td>6.3467</td>\n",
              "      <td>5.0</td>\n",
              "      <td>311.0</td>\n",
              "      <td>15.2</td>\n",
              "      <td>392.52</td>\n",
              "      <td>20.45</td>\n",
              "      <td>15.0</td>\n",
              "    </tr>\n",
              "    <tr>\n",
              "      <th>11</th>\n",
              "      <td>0.11747</td>\n",
              "      <td>12.5</td>\n",
              "      <td>7.87</td>\n",
              "      <td>0.0</td>\n",
              "      <td>0.524</td>\n",
              "      <td>6.009</td>\n",
              "      <td>82.9</td>\n",
              "      <td>6.2267</td>\n",
              "      <td>5.0</td>\n",
              "      <td>311.0</td>\n",
              "      <td>15.2</td>\n",
              "      <td>396.90</td>\n",
              "      <td>13.27</td>\n",
              "      <td>18.9</td>\n",
              "    </tr>\n",
              "    <tr>\n",
              "      <th>12</th>\n",
              "      <td>0.09378</td>\n",
              "      <td>12.5</td>\n",
              "      <td>7.87</td>\n",
              "      <td>0.0</td>\n",
              "      <td>0.524</td>\n",
              "      <td>5.889</td>\n",
              "      <td>39.0</td>\n",
              "      <td>5.4509</td>\n",
              "      <td>5.0</td>\n",
              "      <td>311.0</td>\n",
              "      <td>15.2</td>\n",
              "      <td>390.50</td>\n",
              "      <td>15.71</td>\n",
              "      <td>21.7</td>\n",
              "    </tr>\n",
              "    <tr>\n",
              "      <th>13</th>\n",
              "      <td>0.62976</td>\n",
              "      <td>0.0</td>\n",
              "      <td>8.14</td>\n",
              "      <td>0.0</td>\n",
              "      <td>0.538</td>\n",
              "      <td>5.949</td>\n",
              "      <td>61.8</td>\n",
              "      <td>4.7075</td>\n",
              "      <td>4.0</td>\n",
              "      <td>307.0</td>\n",
              "      <td>21.0</td>\n",
              "      <td>396.90</td>\n",
              "      <td>8.26</td>\n",
              "      <td>20.4</td>\n",
              "    </tr>\n",
              "    <tr>\n",
              "      <th>14</th>\n",
              "      <td>0.63796</td>\n",
              "      <td>0.0</td>\n",
              "      <td>8.14</td>\n",
              "      <td>0.0</td>\n",
              "      <td>0.538</td>\n",
              "      <td>6.096</td>\n",
              "      <td>84.5</td>\n",
              "      <td>4.4619</td>\n",
              "      <td>4.0</td>\n",
              "      <td>307.0</td>\n",
              "      <td>21.0</td>\n",
              "      <td>380.02</td>\n",
              "      <td>10.26</td>\n",
              "      <td>18.2</td>\n",
              "    </tr>\n",
              "  </tbody>\n",
              "</table>\n",
              "</div>\n",
              "    <div class=\"colab-df-buttons\">\n",
              "\n",
              "  <div class=\"colab-df-container\">\n",
              "    <button class=\"colab-df-convert\" onclick=\"convertToInteractive('df-d0b70de2-5def-4bb3-a52d-fa6148bc8cd8')\"\n",
              "            title=\"Convert this dataframe to an interactive table.\"\n",
              "            style=\"display:none;\">\n",
              "\n",
              "  <svg xmlns=\"http://www.w3.org/2000/svg\" height=\"24px\" viewBox=\"0 -960 960 960\">\n",
              "    <path d=\"M120-120v-720h720v720H120Zm60-500h600v-160H180v160Zm220 220h160v-160H400v160Zm0 220h160v-160H400v160ZM180-400h160v-160H180v160Zm440 0h160v-160H620v160ZM180-180h160v-160H180v160Zm440 0h160v-160H620v160Z\"/>\n",
              "  </svg>\n",
              "    </button>\n",
              "\n",
              "  <style>\n",
              "    .colab-df-container {\n",
              "      display:flex;\n",
              "      gap: 12px;\n",
              "    }\n",
              "\n",
              "    .colab-df-convert {\n",
              "      background-color: #E8F0FE;\n",
              "      border: none;\n",
              "      border-radius: 50%;\n",
              "      cursor: pointer;\n",
              "      display: none;\n",
              "      fill: #1967D2;\n",
              "      height: 32px;\n",
              "      padding: 0 0 0 0;\n",
              "      width: 32px;\n",
              "    }\n",
              "\n",
              "    .colab-df-convert:hover {\n",
              "      background-color: #E2EBFA;\n",
              "      box-shadow: 0px 1px 2px rgba(60, 64, 67, 0.3), 0px 1px 3px 1px rgba(60, 64, 67, 0.15);\n",
              "      fill: #174EA6;\n",
              "    }\n",
              "\n",
              "    .colab-df-buttons div {\n",
              "      margin-bottom: 4px;\n",
              "    }\n",
              "\n",
              "    [theme=dark] .colab-df-convert {\n",
              "      background-color: #3B4455;\n",
              "      fill: #D2E3FC;\n",
              "    }\n",
              "\n",
              "    [theme=dark] .colab-df-convert:hover {\n",
              "      background-color: #434B5C;\n",
              "      box-shadow: 0px 1px 3px 1px rgba(0, 0, 0, 0.15);\n",
              "      filter: drop-shadow(0px 1px 2px rgba(0, 0, 0, 0.3));\n",
              "      fill: #FFFFFF;\n",
              "    }\n",
              "  </style>\n",
              "\n",
              "    <script>\n",
              "      const buttonEl =\n",
              "        document.querySelector('#df-d0b70de2-5def-4bb3-a52d-fa6148bc8cd8 button.colab-df-convert');\n",
              "      buttonEl.style.display =\n",
              "        google.colab.kernel.accessAllowed ? 'block' : 'none';\n",
              "\n",
              "      async function convertToInteractive(key) {\n",
              "        const element = document.querySelector('#df-d0b70de2-5def-4bb3-a52d-fa6148bc8cd8');\n",
              "        const dataTable =\n",
              "          await google.colab.kernel.invokeFunction('convertToInteractive',\n",
              "                                                    [key], {});\n",
              "        if (!dataTable) return;\n",
              "\n",
              "        const docLinkHtml = 'Like what you see? Visit the ' +\n",
              "          '<a target=\"_blank\" href=https://colab.research.google.com/notebooks/data_table.ipynb>data table notebook</a>'\n",
              "          + ' to learn more about interactive tables.';\n",
              "        element.innerHTML = '';\n",
              "        dataTable['output_type'] = 'display_data';\n",
              "        await google.colab.output.renderOutput(dataTable, element);\n",
              "        const docLink = document.createElement('div');\n",
              "        docLink.innerHTML = docLinkHtml;\n",
              "        element.appendChild(docLink);\n",
              "      }\n",
              "    </script>\n",
              "  </div>\n",
              "\n",
              "\n",
              "<div id=\"df-8fd308d5-e661-4e8a-897d-1865b03f54ab\">\n",
              "  <button class=\"colab-df-quickchart\" onclick=\"quickchart('df-8fd308d5-e661-4e8a-897d-1865b03f54ab')\"\n",
              "            title=\"Suggest charts\"\n",
              "            style=\"display:none;\">\n",
              "\n",
              "<svg xmlns=\"http://www.w3.org/2000/svg\" height=\"24px\"viewBox=\"0 0 24 24\"\n",
              "     width=\"24px\">\n",
              "    <g>\n",
              "        <path d=\"M19 3H5c-1.1 0-2 .9-2 2v14c0 1.1.9 2 2 2h14c1.1 0 2-.9 2-2V5c0-1.1-.9-2-2-2zM9 17H7v-7h2v7zm4 0h-2V7h2v10zm4 0h-2v-4h2v4z\"/>\n",
              "    </g>\n",
              "</svg>\n",
              "  </button>\n",
              "\n",
              "<style>\n",
              "  .colab-df-quickchart {\n",
              "      --bg-color: #E8F0FE;\n",
              "      --fill-color: #1967D2;\n",
              "      --hover-bg-color: #E2EBFA;\n",
              "      --hover-fill-color: #174EA6;\n",
              "      --disabled-fill-color: #AAA;\n",
              "      --disabled-bg-color: #DDD;\n",
              "  }\n",
              "\n",
              "  [theme=dark] .colab-df-quickchart {\n",
              "      --bg-color: #3B4455;\n",
              "      --fill-color: #D2E3FC;\n",
              "      --hover-bg-color: #434B5C;\n",
              "      --hover-fill-color: #FFFFFF;\n",
              "      --disabled-bg-color: #3B4455;\n",
              "      --disabled-fill-color: #666;\n",
              "  }\n",
              "\n",
              "  .colab-df-quickchart {\n",
              "    background-color: var(--bg-color);\n",
              "    border: none;\n",
              "    border-radius: 50%;\n",
              "    cursor: pointer;\n",
              "    display: none;\n",
              "    fill: var(--fill-color);\n",
              "    height: 32px;\n",
              "    padding: 0;\n",
              "    width: 32px;\n",
              "  }\n",
              "\n",
              "  .colab-df-quickchart:hover {\n",
              "    background-color: var(--hover-bg-color);\n",
              "    box-shadow: 0 1px 2px rgba(60, 64, 67, 0.3), 0 1px 3px 1px rgba(60, 64, 67, 0.15);\n",
              "    fill: var(--button-hover-fill-color);\n",
              "  }\n",
              "\n",
              "  .colab-df-quickchart-complete:disabled,\n",
              "  .colab-df-quickchart-complete:disabled:hover {\n",
              "    background-color: var(--disabled-bg-color);\n",
              "    fill: var(--disabled-fill-color);\n",
              "    box-shadow: none;\n",
              "  }\n",
              "\n",
              "  .colab-df-spinner {\n",
              "    border: 2px solid var(--fill-color);\n",
              "    border-color: transparent;\n",
              "    border-bottom-color: var(--fill-color);\n",
              "    animation:\n",
              "      spin 1s steps(1) infinite;\n",
              "  }\n",
              "\n",
              "  @keyframes spin {\n",
              "    0% {\n",
              "      border-color: transparent;\n",
              "      border-bottom-color: var(--fill-color);\n",
              "      border-left-color: var(--fill-color);\n",
              "    }\n",
              "    20% {\n",
              "      border-color: transparent;\n",
              "      border-left-color: var(--fill-color);\n",
              "      border-top-color: var(--fill-color);\n",
              "    }\n",
              "    30% {\n",
              "      border-color: transparent;\n",
              "      border-left-color: var(--fill-color);\n",
              "      border-top-color: var(--fill-color);\n",
              "      border-right-color: var(--fill-color);\n",
              "    }\n",
              "    40% {\n",
              "      border-color: transparent;\n",
              "      border-right-color: var(--fill-color);\n",
              "      border-top-color: var(--fill-color);\n",
              "    }\n",
              "    60% {\n",
              "      border-color: transparent;\n",
              "      border-right-color: var(--fill-color);\n",
              "    }\n",
              "    80% {\n",
              "      border-color: transparent;\n",
              "      border-right-color: var(--fill-color);\n",
              "      border-bottom-color: var(--fill-color);\n",
              "    }\n",
              "    90% {\n",
              "      border-color: transparent;\n",
              "      border-bottom-color: var(--fill-color);\n",
              "    }\n",
              "  }\n",
              "</style>\n",
              "\n",
              "  <script>\n",
              "    async function quickchart(key) {\n",
              "      const quickchartButtonEl =\n",
              "        document.querySelector('#' + key + ' button');\n",
              "      quickchartButtonEl.disabled = true;  // To prevent multiple clicks.\n",
              "      quickchartButtonEl.classList.add('colab-df-spinner');\n",
              "      try {\n",
              "        const charts = await google.colab.kernel.invokeFunction(\n",
              "            'suggestCharts', [key], {});\n",
              "      } catch (error) {\n",
              "        console.error('Error during call to suggestCharts:', error);\n",
              "      }\n",
              "      quickchartButtonEl.classList.remove('colab-df-spinner');\n",
              "      quickchartButtonEl.classList.add('colab-df-quickchart-complete');\n",
              "    }\n",
              "    (() => {\n",
              "      let quickchartButtonEl =\n",
              "        document.querySelector('#df-8fd308d5-e661-4e8a-897d-1865b03f54ab button');\n",
              "      quickchartButtonEl.style.display =\n",
              "        google.colab.kernel.accessAllowed ? 'block' : 'none';\n",
              "    })();\n",
              "  </script>\n",
              "</div>\n",
              "\n",
              "    </div>\n",
              "  </div>\n"
            ],
            "application/vnd.google.colaboratory.intrinsic+json": {
              "type": "dataframe",
              "variable_name": "boston_data",
              "summary": "{\n  \"name\": \"boston_data\",\n  \"rows\": 506,\n  \"fields\": [\n    {\n      \"column\": \"CRIM\",\n      \"properties\": {\n        \"dtype\": \"number\",\n        \"std\": 8.596782593323319,\n        \"min\": 0.00632,\n        \"max\": 88.9762,\n        \"num_unique_values\": 504,\n        \"samples\": [\n          0.09178,\n          0.05644,\n          0.10574\n        ],\n        \"semantic_type\": \"\",\n        \"description\": \"\"\n      }\n    },\n    {\n      \"column\": \"ZN\",\n      \"properties\": {\n        \"dtype\": \"number\",\n        \"std\": 23.322452994515036,\n        \"min\": 0.0,\n        \"max\": 100.0,\n        \"num_unique_values\": 26,\n        \"samples\": [\n          25.0,\n          30.0,\n          18.0\n        ],\n        \"semantic_type\": \"\",\n        \"description\": \"\"\n      }\n    },\n    {\n      \"column\": \"INDUS\",\n      \"properties\": {\n        \"dtype\": \"number\",\n        \"std\": 6.8603529408975845,\n        \"min\": 0.46,\n        \"max\": 27.74,\n        \"num_unique_values\": 76,\n        \"samples\": [\n          8.14,\n          1.47,\n          1.22\n        ],\n        \"semantic_type\": \"\",\n        \"description\": \"\"\n      }\n    },\n    {\n      \"column\": \"CHAS\",\n      \"properties\": {\n        \"dtype\": \"number\",\n        \"std\": 0.2539940413404118,\n        \"min\": 0.0,\n        \"max\": 1.0,\n        \"num_unique_values\": 2,\n        \"samples\": [\n          1.0,\n          0.0\n        ],\n        \"semantic_type\": \"\",\n        \"description\": \"\"\n      }\n    },\n    {\n      \"column\": \"NOX\",\n      \"properties\": {\n        \"dtype\": \"number\",\n        \"std\": 0.11587767566755611,\n        \"min\": 0.385,\n        \"max\": 0.871,\n        \"num_unique_values\": 81,\n        \"samples\": [\n          0.401,\n          0.538\n        ],\n        \"semantic_type\": \"\",\n        \"description\": \"\"\n      }\n    },\n    {\n      \"column\": \"RM\",\n      \"properties\": {\n        \"dtype\": \"number\",\n        \"std\": 0.7026171434153237,\n        \"min\": 3.561,\n        \"max\": 8.78,\n        \"num_unique_values\": 446,\n        \"samples\": [\n          6.849,\n          4.88\n        ],\n        \"semantic_type\": \"\",\n        \"description\": \"\"\n      }\n    },\n    {\n      \"column\": \"AGE\",\n      \"properties\": {\n        \"dtype\": \"number\",\n        \"std\": 28.148861406903638,\n        \"min\": 2.9,\n        \"max\": 100.0,\n        \"num_unique_values\": 356,\n        \"samples\": [\n          51.8,\n          33.8\n        ],\n        \"semantic_type\": \"\",\n        \"description\": \"\"\n      }\n    },\n    {\n      \"column\": \"DIS\",\n      \"properties\": {\n        \"dtype\": \"number\",\n        \"std\": 2.1057101266276104,\n        \"min\": 1.1296,\n        \"max\": 12.1265,\n        \"num_unique_values\": 412,\n        \"samples\": [\n          2.2955,\n          4.2515\n        ],\n        \"semantic_type\": \"\",\n        \"description\": \"\"\n      }\n    },\n    {\n      \"column\": \"RAD\",\n      \"properties\": {\n        \"dtype\": \"number\",\n        \"std\": 8.707259384239377,\n        \"min\": 1.0,\n        \"max\": 24.0,\n        \"num_unique_values\": 9,\n        \"samples\": [\n          7.0,\n          2.0\n        ],\n        \"semantic_type\": \"\",\n        \"description\": \"\"\n      }\n    },\n    {\n      \"column\": \"TAX\",\n      \"properties\": {\n        \"dtype\": \"number\",\n        \"std\": 168.53711605495926,\n        \"min\": 187.0,\n        \"max\": 711.0,\n        \"num_unique_values\": 66,\n        \"samples\": [\n          370.0,\n          666.0\n        ],\n        \"semantic_type\": \"\",\n        \"description\": \"\"\n      }\n    },\n    {\n      \"column\": \"PTRATIO\",\n      \"properties\": {\n        \"dtype\": \"number\",\n        \"std\": 2.164945523714446,\n        \"min\": 12.6,\n        \"max\": 22.0,\n        \"num_unique_values\": 46,\n        \"samples\": [\n          19.6,\n          15.6\n        ],\n        \"semantic_type\": \"\",\n        \"description\": \"\"\n      }\n    },\n    {\n      \"column\": \"B\",\n      \"properties\": {\n        \"dtype\": \"number\",\n        \"std\": 91.29486438415779,\n        \"min\": 0.32,\n        \"max\": 396.9,\n        \"num_unique_values\": 357,\n        \"samples\": [\n          396.24,\n          395.11\n        ],\n        \"semantic_type\": \"\",\n        \"description\": \"\"\n      }\n    },\n    {\n      \"column\": \"LSTAT\",\n      \"properties\": {\n        \"dtype\": \"number\",\n        \"std\": 7.141061511348571,\n        \"min\": 1.73,\n        \"max\": 37.97,\n        \"num_unique_values\": 455,\n        \"samples\": [\n          6.15,\n          4.32\n        ],\n        \"semantic_type\": \"\",\n        \"description\": \"\"\n      }\n    },\n    {\n      \"column\": \"MEDV\",\n      \"properties\": {\n        \"dtype\": \"number\",\n        \"std\": 9.19710408737982,\n        \"min\": 5.0,\n        \"max\": 50.0,\n        \"num_unique_values\": 229,\n        \"samples\": [\n          14.1,\n          22.5\n        ],\n        \"semantic_type\": \"\",\n        \"description\": \"\"\n      }\n    }\n  ]\n}"
            }
          },
          "metadata": {},
          "execution_count": 50
        }
      ],
      "source": [
        "boston_data.head(15)"
      ],
      "execution_count": 50
    },
    {
      "cell_type": "markdown",
      "metadata": {
        "id": "0f8a5ebe-832b-4dd3-b738-a722ec82fb9c"
      },
      "source": [
        "**Determining** **Normality**\n"
      ]
    },
    {
      "cell_type": "markdown",
      "metadata": {
        "id": "8951eb93-5906-45e0-b433-839fe78b5c17"
      },
      "source": [
        "Making our target variable normally distributed often will lead to better results\n",
        "\n",
        "If our target is not normally distributed, we can apply a transformation to it and then fit our regression to predict the transformed values.\n",
        "\n",
        "How can we tell if our target is normally distributed? There are two ways:\n",
        "\n",
        "* Using a Visual approach\n",
        "* Using a Statistical Test\n"
      ]
    },
    {
      "cell_type": "markdown",
      "metadata": {
        "id": "d2085917-51d5-429e-8ffd-25e085c85136"
      },
      "source": [
        "#### Using a Visual approach\n"
      ]
    },
    {
      "cell_type": "markdown",
      "metadata": {
        "id": "8ac55b90-3a8e-4238-90b3-4990bc28a353"
      },
      "source": [
        "#### Plotting a histogram:\n"
      ]
    },
    {
      "cell_type": "code",
      "metadata": {
        "id": "4311c0f5-55e0-47f6-b978-9752cf1e46b6",
        "colab": {
          "base_uri": "https://localhost:8080/",
          "height": 431
        },
        "outputId": "c3305f9a-5726-4bc0-8803-fca508ba9a26"
      },
      "outputs": [
        {
          "output_type": "display_data",
          "data": {
            "text/plain": [
              "<Figure size 640x480 with 1 Axes>"
            ],
            "image/png": "[encoded data removed]"
          },
          "metadata": {}
        }
      ],
      "source": [
        "boston_data.MEDV.hist();"
      ],
      "execution_count": 51
    },
    {
      "cell_type": "markdown",
      "metadata": {
        "id": "c1817791-3bb6-4911-b418-55bb491176e0"
      },
      "source": [
        "\n",
        "\n",
        "```\n",
        "# This is formatted as code\n",
        "```\n",
        "\n",
        "The histogram does not look normal due to its right tail.\n"
      ]
    },
    {
      "cell_type": "markdown",
      "metadata": {
        "id": "14bda4e2-02a3-4ffc-8fe3-f47f8cda714c"
      },
      "source": [
        "#### Using a Statistical Test\n"
      ]
    },
    {
      "cell_type": "markdown",
      "metadata": {
        "id": "f8d2e246-6568-40ca-b75d-9de4dbf3b843"
      },
      "source": [
        "Without getting into Bayesian vs. frequentist debates, for the purposes of this lesson, the following will suffice:\n",
        "\n",
        "* This is a statistical test that tests whether a distribution is normally distributed or not. It isn't perfect, but suffice it to say:\n",
        "    * This test outputs a **p-value**. The _higher_ this p-value is the _closer_ the distribution is to normal.\n",
        "    * Frequentist statisticians would say that you accept that the distribution is normal (more specifically: fail to reject the null hypothesis that it is normal) if p > 0.05.\n"
      ]
    },
    {
      "cell_type": "code",
      "metadata": {
        "id": "b32f83d4-806e-4896-ac6c-9a311d34ef78"
      },
      "outputs": [],
      "source": [
        "from scipy.stats.mstats import normaltest # D'Agostino K^2 Test"
      ],
      "execution_count": 52
    },
    {
      "cell_type": "code",
      "metadata": {
        "id": "5c4d6626-3818-48c0-b47b-aa25c416ce14",
        "colab": {
          "base_uri": "https://localhost:8080/"
        },
        "outputId": "e976f84b-af79-4a3c-d828-606d3b7b98a1"
      },
      "outputs": [
        {
          "output_type": "execute_result",
          "data": {
            "text/plain": [
              "NormaltestResult(statistic=90.9746873700967, pvalue=1.7583188871696095e-20)"
            ]
          },
          "metadata": {},
          "execution_count": 54
        }
      ],
      "source": [
        "normaltest(boston_data.MEDV.values) # pvalue=1.7583188871696095e-20 that meaning =0.000000000000000000017583188871696095"
      ],
      "execution_count": 54
    },
    {
      "cell_type": "markdown",
      "metadata": {
        "id": "53b25f5e-c72c-4f08-89fb-68e12bd40098"
      },
      "source": [
        "# p-value is _extremely_ low. Our **y** variable which we have been dealing with this whole time was not normally distributed!\n"
      ]
    },
    {
      "cell_type": "markdown",
      "metadata": {
        "id": "19cc4546-261e-4124-a6ed-fea6de5ce594"
      },
      "source": [
        "### Apply transformations to make target variable more normally distributed for Regression\n"
      ]
    },
    {
      "cell_type": "markdown",
      "metadata": {
        "id": "a591ab0e-fe9b-4496-bd36-b578d11db90d"
      },
      "source": [
        "Linear Regression assumes a normally distributed residuals which can be aided by transforming **y** variable which is the target variable. Let's try some common transformations to try and get **y** to be normally distributed:\n",
        "\n",
        "* Log Transformation\n",
        "* Square root Transformation\n",
        "* Box cox Transformation\n"
      ]
    },
    {
      "cell_type": "markdown",
      "metadata": {
        "id": "51bec534-1688-4776-a6e2-9cf526f6fcb3"
      },
      "source": [
        "### Log Transformation\n"
      ]
    },
    {
      "cell_type": "markdown",
      "metadata": {
        "id": "5c2f78c5-aeec-4d8b-a06b-4d7855cb3fe4"
      },
      "source": [
        "The log transformation can transform data that is significantly skewed right to be more normally distributed:\n"
      ]
    },
    {
      "cell_type": "code",
      "metadata": {
        "id": "5c636751-5c8f-4284-bb07-31176db31f42",
        "colab": {
          "base_uri": "https://localhost:8080/",
          "height": 430
        },
        "outputId": "c8f41131-59c8-4497-c6c6-4979c90fdee8"
      },
      "outputs": [
        {
          "output_type": "display_data",
          "data": {
            "text/plain": [
              "<Figure size 640x480 with 1 Axes>"
            ],
            "image/png": "[encoded data removed]"
          },
          "metadata": {}
        }
      ],
      "source": [
        "data = plot_exponential_data()"
      ],
      "execution_count": 59
    },
    {
      "cell_type": "code",
      "metadata": {
        "id": "f5afc765-7c48-4507-9d69-2cd870aefa94",
        "colab": {
          "base_uri": "https://localhost:8080/",
          "height": 430
        },
        "outputId": "01a50e33-7b7b-480f-f16e-c8c1dd2a5338"
      },
      "outputs": [
        {
          "output_type": "display_data",
          "data": {
            "text/plain": [
              "<Figure size 640x480 with 1 Axes>"
            ],
            "image/png": "[encoded data removed]"
          },
          "metadata": {}
        }
      ],
      "source": [
        "plt.hist(np.log(data));"
      ],
      "execution_count": 60
    },
    {
      "cell_type": "code",
      "source": [
        "boston_data.MEDV.hist();"
      ],
      "metadata": {
        "colab": {
          "base_uri": "https://localhost:8080/",
          "height": 431
        },
        "id": "XeuKMIBGmQBu",
        "outputId": "dc87bcb9-a5cf-4017-c68a-731a5a73a1ff"
      },
      "execution_count": 61,
      "outputs": [
        {
          "output_type": "display_data",
          "data": {
            "text/plain": [
              "<Figure size 640x480 with 1 Axes>"
            ],
            "image/png": "[encoded data removed]"
          },
          "metadata": {}
        }
      ]
    },
    {
      "cell_type": "markdown",
      "metadata": {
        "id": "72caecc3-68ab-45f1-bcd6-340bf161506f"
      },
      "source": [
        "**Apply transformation to Boston Housing data:**\n"
      ]
    },
    {
      "cell_type": "code",
      "metadata": {
        "id": "fa056db4-2b75-47f1-958b-7e0c19a7f69c",
        "colab": {
          "base_uri": "https://localhost:8080/",
          "height": 430
        },
        "outputId": "558148b9-fb5a-49a9-fe51-e835681ac6c8"
      },
      "outputs": [
        {
          "output_type": "display_data",
          "data": {
            "text/plain": [
              "<Figure size 640x480 with 1 Axes>"
            ],
            "image/png": "[encoded data removed]"
          },
          "metadata": {}
        }
      ],
      "source": [
        "log_medv = np.log(boston_data.MEDV)\n",
        "log_medv.hist();"
      ],
      "execution_count": 63
    },
    {
      "cell_type": "code",
      "metadata": {
        "id": "5117c643-47ca-45c5-8cc5-19e75d3a6d1c",
        "colab": {
          "base_uri": "https://localhost:8080/"
        },
        "outputId": "d615d9be-9d8d-4092-9bb4-3f3703a837c0"
      },
      "outputs": [
        {
          "output_type": "execute_result",
          "data": {
            "text/plain": [
              "NormaltestResult(statistic=17.21801696640698, pvalue=0.00018245472768345196)"
            ]
          },
          "metadata": {},
          "execution_count": 65
        }
      ],
      "source": [
        "normaltest(log_medv)"
      ],
      "execution_count": 65
    },
    {
      "cell_type": "markdown",
      "metadata": {
        "id": "6d8049c2-df7f-4c6f-90df-b3b675b37675"
      },
      "source": [
        "**Conclusion**: The output is closer to normal distribution, but still not completely normal.\n"
      ]
    },
    {
      "cell_type": "markdown",
      "metadata": {
        "id": "36a8d3b9-6908-4487-a09e-c65dd9bbdeea"
      },
      "source": [
        "### Square root Transformation\n",
        "\n",
        "The square root transformation is another transformation that can transform non-normally distributed data into normally distributed data:\n"
      ]
    },
    {
      "cell_type": "code",
      "metadata": {
        "id": "d4de4753-57e8-4738-abab-e51b09e85213",
        "colab": {
          "base_uri": "https://localhost:8080/",
          "height": 430
        },
        "outputId": "0f31c9c2-8b2e-4a6c-b2d8-693a35514107"
      },
      "outputs": [
        {
          "output_type": "display_data",
          "data": {
            "text/plain": [
              "<Figure size 640x480 with 1 Axes>"
            ],
            "image/png": "[encoded data removed]"
          },
          "metadata": {}
        }
      ],
      "source": [
        "data = plot_square_normal_data()"
      ],
      "execution_count": 71
    },
    {
      "cell_type": "markdown",
      "metadata": {
        "id": "7c0f440a-049e-4c98-ac32-ccd273a67294"
      },
      "source": [
        "You may notice that the output still exhibits a slight right skew.\n"
      ]
    },
    {
      "cell_type": "code",
      "metadata": {
        "id": "bf8f7562-e0bb-4825-9544-e9ce7a26d9c1",
        "colab": {
          "base_uri": "https://localhost:8080/",
          "height": 430
        },
        "outputId": "16a49470-dd9c-4d84-e576-964a33157af0"
      },
      "outputs": [
        {
          "output_type": "display_data",
          "data": {
            "text/plain": [
              "<Figure size 640x480 with 1 Axes>"
            ],
            "image/png": "[encoded data removed]"
          },
          "metadata": {}
        }
      ],
      "source": [
        "plt.hist(np.sqrt(data));"
      ],
      "execution_count": 72
    },
    {
      "cell_type": "markdown",
      "metadata": {
        "id": "e9cd42cf-7318-4942-aad9-5bda096d1d19"
      },
      "source": [
        "#### Exercise\n"
      ]
    },
    {
      "cell_type": "markdown",
      "metadata": {
        "id": "1332c0fb-2f33-4575-b5db-b0e09900f6dc"
      },
      "source": [
        "Apply the square root transformation to the Boston Housing data target and test whether the result is normally distributed.\n"
      ]
    },
    {
      "cell_type": "code",
      "source": [
        "boston_data.MEDV.hist();"
      ],
      "metadata": {
        "colab": {
          "base_uri": "https://localhost:8080/",
          "height": 431
        },
        "id": "8Pz7kTHxmoGB",
        "outputId": "21294f66-b831-409d-b07d-3ca2cdd38061"
      },
      "execution_count": 75,
      "outputs": [
        {
          "output_type": "display_data",
          "data": {
            "text/plain": [
              "<Figure size 640x480 with 1 Axes>"
            ],
            "image/png": "[encoded data removed]"
          },
          "metadata": {}
        }
      ]
    },
    {
      "cell_type": "code",
      "metadata": {
        "id": "fc2c8aea-50a6-452a-968e-53812f207b75",
        "colab": {
          "base_uri": "https://localhost:8080/",
          "height": 519
        },
        "outputId": "5f4ad2d8-3b5f-4c5d-ac71-9f5d20eed133"
      },
      "outputs": [
        {
          "output_type": "execute_result",
          "data": {
            "text/plain": [
              "(array([  9.,  18.,  40.,  67., 131., 121.,  48.,  36.,  10.,  26.]),\n",
              " array([2.23606798, 2.71956796, 3.20306794, 3.68656793, 4.17006791,\n",
              "        4.65356789, 5.13706788, 5.62056786, 6.10406784, 6.58756783,\n",
              "        7.07106781]),\n",
              " <BarContainer object of 10 artists>)"
            ]
          },
          "metadata": {},
          "execution_count": 74
        },
        {
          "output_type": "display_data",
          "data": {
            "text/plain": [
              "<Figure size 640x480 with 1 Axes>"
            ],
            "image/png": "[encoded data removed]"
          },
          "metadata": {}
        }
      ],
      "source": [
        "## Enter your code here\n",
        "sqrt_medv = np.sqrt(boston_data.MEDV)\n",
        "plt.hist(sqrt_medv)"
      ],
      "execution_count": 74
    },
    {
      "cell_type": "markdown",
      "metadata": {
        "id": "dff25b9b-9df6-4adb-9d46-c2c5b35b2b1e"
      },
      "source": [
        "<details><summary>Click here for a sample python solution</summary>\n",
        "\n",
        "```python\n",
        "sqrt_medv = np.sqrt(boston_data.MEDV)\n",
        "plt.hist(sqrt_medv)\n",
        "\n",
        "```\n"
      ]
    },
    {
      "cell_type": "code",
      "metadata": {
        "id": "4c2bdf32-cac0-42d1-a787-bc6acae1974e",
        "colab": {
          "base_uri": "https://localhost:8080/"
        },
        "outputId": "400c0ee0-cc79-47f0-8942-4463e734adb4"
      },
      "outputs": [
        {
          "output_type": "execute_result",
          "data": {
            "text/plain": [
              "NormaltestResult(statistic=20.487090826863067, pvalue=3.558645701429252e-05)"
            ]
          },
          "metadata": {},
          "execution_count": 76
        }
      ],
      "source": [
        "normaltest(sqrt_medv)"
      ],
      "execution_count": 76
    },
    {
      "cell_type": "markdown",
      "metadata": {
        "id": "a9556fe3-8937-4dc5-a66b-98bafb16531e"
      },
      "source": [
        "### Box cox Transformation\n"
      ]
    },
    {
      "cell_type": "markdown",
      "metadata": {
        "id": "ce5adc1d-c9c8-4852-a66b-19617d0497c3"
      },
      "source": [
        "The box cox transformation is a parametrized transformation that tries to get distributions \"as close to a normal distribution as possible\".\n",
        "\n",
        "It is defined as:\n",
        "\n",
        "$$ \\text{boxcox}(y_i) = \\frac{y_i^{\\lambda} - 1}{\\lambda} $$\n",
        "\n",
        "You can think of as a generalization of the square root function: the square root function uses the exponent of 0.5, but box cox lets its exponent vary so it can find the best one.\n"
      ]
    },
    {
      "cell_type": "code",
      "metadata": {
        "id": "169fd63c-63f8-4664-8856-b6d80ee9f4ac"
      },
      "outputs": [],
      "source": [
        "from scipy.stats import boxcox"
      ],
      "execution_count": 77
    },
    {
      "cell_type": "code",
      "metadata": {
        "id": "3cd7ca79-a62e-41d2-936e-41f2fa4fe9c1"
      },
      "outputs": [],
      "source": [
        "bc_result = boxcox(boston_data.MEDV)\n",
        "boxcox_medv = bc_result[0]\n",
        "lam = bc_result[1]"
      ],
      "execution_count": 78
    },
    {
      "cell_type": "code",
      "metadata": {
        "id": "f7e297be-fc79-4453-9d35-5a66f1458284",
        "colab": {
          "base_uri": "https://localhost:8080/"
        },
        "outputId": "688c1478-0088-427d-d2d2-5e4746f73597"
      },
      "outputs": [
        {
          "output_type": "execute_result",
          "data": {
            "text/plain": [
              "0.21662090066621686"
            ]
          },
          "metadata": {},
          "execution_count": 79
        }
      ],
      "source": [
        "lam"
      ],
      "execution_count": 79
    },
    {
      "cell_type": "code",
      "metadata": {
        "id": "41ed598c-0c13-440f-a545-3d35fc984ae3",
        "colab": {
          "base_uri": "https://localhost:8080/",
          "height": 431
        },
        "outputId": "71d6c425-f833-479a-f6a3-6b431caad8b5"
      },
      "outputs": [
        {
          "output_type": "display_data",
          "data": {
            "text/plain": [
              "<Figure size 640x480 with 1 Axes>"
            ],
            "image/png": "[encoded data removed]"
          },
          "metadata": {}
        }
      ],
      "source": [
        "boston_data['MEDV'].hist();"
      ],
      "execution_count": 80
    },
    {
      "cell_type": "code",
      "metadata": {
        "id": "dfdf62b6-b3d8-4812-a228-a39137b4bb1c",
        "colab": {
          "base_uri": "https://localhost:8080/",
          "height": 430
        },
        "outputId": "9494340f-c854-48f6-d3a0-1aa5504ad4bb"
      },
      "outputs": [
        {
          "output_type": "display_data",
          "data": {
            "text/plain": [
              "<Figure size 640x480 with 1 Axes>"
            ],
            "image/png": "[encoded data removed]"
          },
          "metadata": {}
        }
      ],
      "source": [
        "plt.hist(boxcox_medv);"
      ],
      "execution_count": 81
    },
    {
      "cell_type": "code",
      "metadata": {
        "id": "7eaa99a4-dbd7-4f4e-865a-a907e1cf9a0c",
        "colab": {
          "base_uri": "https://localhost:8080/"
        },
        "outputId": "341b4676-1f72-4727-bba3-33007b90b43e"
      },
      "outputs": [
        {
          "output_type": "execute_result",
          "data": {
            "text/plain": [
              "NormaltestResult(statistic=4.513528777459214, pvalue=0.10468866918093613)"
            ]
          },
          "metadata": {},
          "execution_count": 82
        }
      ],
      "source": [
        "normaltest(boxcox_medv)"
      ],
      "execution_count": 82
    },
    {
      "cell_type": "markdown",
      "metadata": {
        "id": "16b845c8-8c6b-4949-827d-83c2e89be66c"
      },
      "source": [
        "We find that the box cox results in a graph which is significantly more normally distributed (according to p value) than the other two distributions.This can be even above 0.05.\n",
        "\n",
        "Now that we have a normally distributed y-variable, let's test Regression using this transformed target variables.\n"
      ]
    },
    {
      "cell_type": "markdown",
      "metadata": {
        "id": "63921cc4-1784-4e79-82c7-68e24c6d3b8d"
      },
      "source": [
        "### Testing regression:\n"
      ]
    },
    {
      "cell_type": "code",
      "metadata": {
        "id": "74f2bd8d-4378-4854-a339-38a2d1689c59"
      },
      "outputs": [],
      "source": [
        "from sklearn.linear_model import LinearRegression\n",
        "from sklearn.metrics import r2_score\n",
        "from sklearn.model_selection import train_test_split\n",
        "from sklearn.preprocessing import (StandardScaler,\n",
        "                                   PolynomialFeatures)"
      ],
      "execution_count": 84
    },
    {
      "cell_type": "code",
      "metadata": {
        "id": "f85ff94b-983e-43e1-a0dd-790aa5599ee0"
      },
      "outputs": [],
      "source": [
        "lr = LinearRegression()"
      ],
      "execution_count": 85
    },
    {
      "cell_type": "markdown",
      "metadata": {
        "id": "e63cc413-0e8e-431a-897e-463b2779b2dd"
      },
      "source": [
        "**Define and load the predictor (X) and Target(y) variables**\n"
      ]
    },
    {
      "cell_type": "code",
      "metadata": {
        "id": "316f2e08-3489-488e-aad6-4aabb0cdcf69"
      },
      "outputs": [],
      "source": [
        "y_col = \"MEDV\"\n",
        "\n",
        "X = boston_data.drop(y_col, axis=1) #Independent Variables\n",
        "y = boston_data[y_col] #Dependent Variables\n",
        "# here we drop the boston_data['MEDV'] to sperte data to two type: feter and leabel"
      ],
      "execution_count": 88
    },
    {
      "cell_type": "code",
      "source": [
        "X"
      ],
      "metadata": {
        "colab": {
          "base_uri": "https://localhost:8080/"
        },
        "id": "iB5boRE14JnT",
        "outputId": "4d8dc737-c1d8-4b57-bee4-587d7bb50792"
      },
      "execution_count": 112,
      "outputs": [
        {
          "output_type": "execute_result",
          "data": {
            "text/plain": [
              "506"
            ]
          },
          "metadata": {},
          "execution_count": 112
        }
      ]
    },
    {
      "cell_type": "code",
      "source": [
        "len(y)"
      ],
      "metadata": {
        "colab": {
          "base_uri": "https://localhost:8080/"
        },
        "id": "EeEVjZee4KeY",
        "outputId": "eb91f5c3-bfe2-44fa-909c-91f17c00cf5c"
      },
      "execution_count": 113,
      "outputs": [
        {
          "output_type": "execute_result",
          "data": {
            "text/plain": [
              "506"
            ]
          },
          "metadata": {},
          "execution_count": 113
        }
      ]
    },
    {
      "cell_type": "markdown",
      "source": [
        "so I have 506 row and 14 column"
      ],
      "metadata": {
        "id": "sOkjkrqb_81U"
      }
    },
    {
      "cell_type": "markdown",
      "metadata": {
        "id": "48ce8c5a-063e-480d-8ad6-858fb7483298"
      },
      "source": [
        "**Create Polynomial Features**\n"
      ]
    },
    {
      "cell_type": "code",
      "metadata": {
        "id": "e3807e3b-ad4c-4b1d-ac31-173115c29caf"
      },
      "outputs": [],
      "source": [
        "pf = PolynomialFeatures(degree=2, include_bias=False)\n",
        "X_pf = pf.fit_transform(X)"
      ],
      "execution_count": 98
    },
    {
      "cell_type": "code",
      "source": [
        "#X_pf\n",
        "type(X_pf) #numpy.ndarray\n",
        "X_pf.shape\n",
        "# where the first dimension has 506 elements and the second has 104.\n"
      ],
      "metadata": {
        "colab": {
          "base_uri": "https://localhost:8080/"
        },
        "id": "r2Z60vwe5X6j",
        "outputId": "90486492-4702-4c1b-98a3-7a6d9f9200eb"
      },
      "execution_count": 109,
      "outputs": [
        {
          "output_type": "execute_result",
          "data": {
            "text/plain": [
              "array([[2.73100000e-02, 0.00000000e+00, 7.07000000e+00, ...,\n",
              "        1.57529610e+05, 3.62766600e+03, 8.35396000e+01],\n",
              "       [2.72900000e-02, 0.00000000e+00, 7.07000000e+00, ...,\n",
              "        1.54315409e+05, 1.58310490e+03, 1.62409000e+01],\n",
              "       [3.23700000e-02, 0.00000000e+00, 2.18000000e+00, ...,\n",
              "        1.55732837e+05, 1.16021220e+03, 8.64360000e+00],\n",
              "       ...,\n",
              "       [6.07600000e-02, 0.00000000e+00, 1.19300000e+01, ...,\n",
              "        1.57529610e+05, 2.23851600e+03, 3.18096000e+01],\n",
              "       [1.09590000e-01, 0.00000000e+00, 1.19300000e+01, ...,\n",
              "        1.54802902e+05, 2.54955600e+03, 4.19904000e+01],\n",
              "       [4.74100000e-02, 0.00000000e+00, 1.19300000e+01, ...,\n",
              "        1.57529610e+05, 3.12757200e+03, 6.20944000e+01]])"
            ]
          },
          "metadata": {},
          "execution_count": 109
        }
      ]
    },
    {
      "cell_type": "markdown",
      "metadata": {
        "id": "70a014d5-e84d-4e41-8dce-127c61e2151e"
      },
      "source": [
        "**Split the data into Training and Test Sets**   \n",
        "\n",
        "The split ratio here is 0.7 and 0.3 which means we will assign **70%** data for training and **30%** data for testing\n"
      ]
    },
    {
      "cell_type": "code",
      "metadata": {
        "id": "30c8b54d-b6ab-4137-90bb-27b554437a7c"
      },
      "outputs": [],
      "source": [
        "X_train, X_test, y_train, y_test = train_test_split(X_pf, y, test_size=0.3,\n",
        "                                                    random_state=72018)"
      ],
      "execution_count": 93
    },
    {
      "cell_type": "code",
      "source": [
        "X_train"
      ],
      "metadata": {
        "colab": {
          "base_uri": "https://localhost:8080/"
        },
        "id": "0BJih4eS5OhV",
        "outputId": "3fdfb818-0d39-4a6d-e789-7270e9cc4eaf"
      },
      "execution_count": 115,
      "outputs": [
        {
          "output_type": "execute_result",
          "data": {
            "text/plain": [
              "array([[3.47428000e+00, 0.00000000e+00, 1.81000000e+01, ...,\n",
              "        1.25705703e+05, 1.87556950e+03, 2.79841000e+01],\n",
              "       [3.70500000e-02, 2.00000000e+01, 3.33000000e+00, ...,\n",
              "        1.53844373e+05, 1.80033570e+03, 2.10681000e+01],\n",
              "       [1.23290000e-01, 0.00000000e+00, 1.00100000e+01, ...,\n",
              "        1.55985503e+05, 6.40213950e+03, 2.62764100e+02],\n",
              "       ...,\n",
              "       [1.41500000e-01, 0.00000000e+00, 6.91000000e+00, ...,\n",
              "        1.46972557e+05, 2.22737970e+03, 3.37561000e+01],\n",
              "       [2.24890000e-01, 1.25000000e+01, 7.87000000e+00, ...,\n",
              "        1.54071950e+05, 8.02703400e+03, 4.18202500e+02],\n",
              "       [3.22640000e-01, 0.00000000e+00, 2.18900000e+01, ...,\n",
              "        1.43073062e+05, 6.39242500e+03, 2.85610000e+02]])"
            ]
          },
          "metadata": {},
          "execution_count": 115
        }
      ]
    },
    {
      "cell_type": "code",
      "source": [
        "X_test"
      ],
      "metadata": {
        "colab": {
          "base_uri": "https://localhost:8080/"
        },
        "id": "6_51y2Wb5Q1e",
        "outputId": "fbbdfad9-3f20-46e2-99c4-cfee901e9ce2"
      },
      "execution_count": 116,
      "outputs": [
        {
          "output_type": "execute_result",
          "data": {
            "text/plain": [
              "array([[4.52700000e-02, 0.00000000e+00, 1.19300000e+01, ...,\n",
              "        1.57529610e+05, 3.60385200e+03, 8.24464000e+01],\n",
              "       [2.59150000e-01, 0.00000000e+00, 2.18900000e+01, ...,\n",
              "        1.53750252e+05, 6.74037090e+03, 2.95496100e+02],\n",
              "       [6.96215000e+00, 0.00000000e+00, 1.81000000e+01, ...,\n",
              "        1.55575025e+05, 6.74869730e+03, 2.92752100e+02],\n",
              "       ...,\n",
              "       [4.98100000e-02, 2.10000000e+01, 5.64000000e+00, ...,\n",
              "        1.57529610e+05, 3.34586700e+03, 7.10649000e+01],\n",
              "       [3.65900000e-02, 2.50000000e+01, 4.86000000e+00, ...,\n",
              "        1.57529610e+05, 2.66716800e+03, 4.51584000e+01],\n",
              "       [9.82349000e+00, 0.00000000e+00, 1.81000000e+01, ...,\n",
              "        1.57529610e+05, 8.43015600e+03, 4.51137600e+02]])"
            ]
          },
          "metadata": {},
          "execution_count": 116
        }
      ]
    },
    {
      "cell_type": "markdown",
      "metadata": {
        "id": "caada91c-f4ee-459c-99f3-0f086ad0ece7"
      },
      "source": [
        "**Normalize the training data using `StandardScaler` on `X_train`. Use fit_transform() function**\n"
      ]
    },
    {
      "cell_type": "code",
      "metadata": {
        "id": "7dcc751f-fffb-4154-b409-66dc9daa4193"
      },
      "outputs": [],
      "source": [
        "s = StandardScaler()\n",
        "X_train_s = s.fit_transform(X_train)"
      ],
      "execution_count": 117
    },
    {
      "cell_type": "markdown",
      "metadata": {
        "id": "6fe1c6c9-dc24-4a40-ad1f-1652135cd511"
      },
      "source": [
        "**Discuss: what transformation do we need to apply next?**\n",
        "\n",
        "Apply the appropriate transformation.\n"
      ]
    },
    {
      "cell_type": "code",
      "metadata": {
        "id": "6cf53ce5-bf3f-4271-b578-1ea3a75f20bc"
      },
      "outputs": [],
      "source": [
        "# Enter your code here\n",
        "bc_result2 = boxcox(y_train)\n",
        "y_train_bc = bc_result2[0]\n",
        "lam2 = bc_result2[1]"
      ],
      "execution_count": 118
    },
    {
      "cell_type": "markdown",
      "metadata": {
        "id": "19ea4817-8530-43d8-9606-dec7e5f08782"
      },
      "source": [
        "<details><summary>Click here for a sample python solution</summary>\n",
        "\n",
        "```python\n",
        "    \n",
        "bc_result2 = boxcox(y_train)\n",
        "y_train_bc = bc_result2[0]\n",
        "lam2 = bc_result2[1]\n",
        "\n",
        "```\n"
      ]
    },
    {
      "cell_type": "markdown",
      "metadata": {
        "id": "b82d28ec-edff-4d52-828c-5a6e6c8d048e"
      },
      "source": [
        "As before, we'll now:\n",
        "\n",
        "1. Fit regression\n",
        "1. Transform testing data\n",
        "1. Predict on testing data\n"
      ]
    },
    {
      "cell_type": "code",
      "metadata": {
        "id": "dd41de74-1300-40e5-b737-b5ab1b932eee",
        "colab": {
          "base_uri": "https://localhost:8080/"
        },
        "outputId": "7ab5874f-e170-4eb4-eecd-e85d50731405"
      },
      "outputs": [
        {
          "output_type": "execute_result",
          "data": {
            "text/plain": [
              "(354,)"
            ]
          },
          "metadata": {},
          "execution_count": 119
        }
      ],
      "source": [
        "y_train_bc.shape"
      ],
      "execution_count": 119
    },
    {
      "cell_type": "code",
      "metadata": {
        "id": "04f3471c-8fd0-43e5-ae34-5309b092cdd4"
      },
      "outputs": [],
      "source": [
        "lr.fit(X_train_s, y_train_bc)\n",
        "X_test_s = s.transform(X_test)\n",
        "y_pred_bc = lr.predict(X_test_s)"
      ],
      "execution_count": 120
    },
    {
      "cell_type": "code",
      "source": [
        "y_test"
      ],
      "metadata": {
        "colab": {
          "base_uri": "https://localhost:8080/",
          "height": 458
        },
        "id": "4kelNjf7jAkl",
        "outputId": "5ed37fa1-f17e-4996-b6ee-8961364225ef"
      },
      "execution_count": 121,
      "outputs": [
        {
          "output_type": "execute_result",
          "data": {
            "text/plain": [
              "502    20.6\n",
              "127    16.2\n",
              "390    15.1\n",
              "303    33.1\n",
              "277    33.1\n",
              "       ... \n",
              "433    14.3\n",
              "505    11.9\n",
              "53     23.4\n",
              "82     24.8\n",
              "377    13.3\n",
              "Name: MEDV, Length: 152, dtype: float64"
            ],
            "text/html": [
              "<div>\n",
              "<style scoped>\n",
              "    .dataframe tbody tr th:only-of-type {\n",
              "        vertical-align: middle;\n",
              "    }\n",
              "\n",
              "    .dataframe tbody tr th {\n",
              "        vertical-align: top;\n",
              "    }\n",
              "\n",
              "    .dataframe thead th {\n",
              "        text-align: right;\n",
              "    }\n",
              "</style>\n",
              "<table border=\"1\" class=\"dataframe\">\n",
              "  <thead>\n",
              "    <tr style=\"text-align: right;\">\n",
              "      <th></th>\n",
              "      <th>MEDV</th>\n",
              "    </tr>\n",
              "  </thead>\n",
              "  <tbody>\n",
              "    <tr>\n",
              "      <th>502</th>\n",
              "      <td>20.6</td>\n",
              "    </tr>\n",
              "    <tr>\n",
              "      <th>127</th>\n",
              "      <td>16.2</td>\n",
              "    </tr>\n",
              "    <tr>\n",
              "      <th>390</th>\n",
              "      <td>15.1</td>\n",
              "    </tr>\n",
              "    <tr>\n",
              "      <th>303</th>\n",
              "      <td>33.1</td>\n",
              "    </tr>\n",
              "    <tr>\n",
              "      <th>277</th>\n",
              "      <td>33.1</td>\n",
              "    </tr>\n",
              "    <tr>\n",
              "      <th>...</th>\n",
              "      <td>...</td>\n",
              "    </tr>\n",
              "    <tr>\n",
              "      <th>433</th>\n",
              "      <td>14.3</td>\n",
              "    </tr>\n",
              "    <tr>\n",
              "      <th>505</th>\n",
              "      <td>11.9</td>\n",
              "    </tr>\n",
              "    <tr>\n",
              "      <th>53</th>\n",
              "      <td>23.4</td>\n",
              "    </tr>\n",
              "    <tr>\n",
              "      <th>82</th>\n",
              "      <td>24.8</td>\n",
              "    </tr>\n",
              "    <tr>\n",
              "      <th>377</th>\n",
              "      <td>13.3</td>\n",
              "    </tr>\n",
              "  </tbody>\n",
              "</table>\n",
              "<p>152 rows × 1 columns</p>\n",
              "</div><br><label><b>dtype:</b> float64</label>"
            ]
          },
          "metadata": {},
          "execution_count": 121
        }
      ]
    },
    {
      "cell_type": "code",
      "source": [
        "y_pred_bc"
      ],
      "metadata": {
        "colab": {
          "base_uri": "https://localhost:8080/"
        },
        "id": "uTi7Hz1bjEPy",
        "outputId": "a0c95c0b-29d4-4f46-cd7f-ff45b7783558"
      },
      "execution_count": 122,
      "outputs": [
        {
          "output_type": "execute_result",
          "data": {
            "text/plain": [
              "array([4.43923406, 4.16090916, 4.15308645, 5.72559258, 5.7030062 ,\n",
              "       6.59889483, 4.18331988, 4.77591002, 4.6861456 , 4.85728933,\n",
              "       6.83944518, 3.76006122, 5.06792504, 4.36602086, 6.91067203,\n",
              "       4.94872338, 4.64047962, 5.83610091, 5.25013595, 5.44752193,\n",
              "       3.97745085, 4.88502879, 4.20357865, 3.61242511, 5.2349776 ,\n",
              "       5.30389186, 5.86527563, 4.79984545, 4.79631505, 6.80365099,\n",
              "       3.3671651 , 4.39738299, 4.29845386, 6.96423301, 4.49871222,\n",
              "       5.52039157, 4.80019654, 5.61272392, 3.05186385, 5.34227339,\n",
              "       3.3408162 , 3.97104141, 5.13918229, 4.37998316, 5.06134108,\n",
              "       6.28670332, 4.90206064, 5.25595624, 5.69828189, 4.21011227,\n",
              "       5.23206173, 5.48921756, 4.37075199, 3.94811685, 4.15121051,\n",
              "       2.74849185, 4.06553457, 3.13202407, 4.55300077, 4.80245912,\n",
              "       5.74892315, 3.26185922, 3.53812191, 6.17778698, 4.23622515,\n",
              "       5.82374056, 3.41359673, 3.8397817 , 4.96307804, 5.7430395 ,\n",
              "       5.20656198, 5.22395313, 5.25945043, 5.43875996, 3.83969325,\n",
              "       3.49918955, 5.39730908, 4.44473722, 4.37572425, 4.43688019,\n",
              "       4.22547238, 4.86897919, 5.84864406, 4.04130025, 3.53265696,\n",
              "       3.18748053, 4.62123814, 6.02948755, 4.69902363, 6.75306403,\n",
              "       4.36369865, 7.09943555, 3.63055512, 6.85938876, 5.95013431,\n",
              "       4.85771669, 3.32284685, 3.07438141, 4.97033791, 5.04698283,\n",
              "       2.26308806, 3.36965538, 3.93673467, 5.25273848, 5.72696676,\n",
              "       5.42008604, 4.63576993, 4.08272867, 3.91983807, 5.48236202,\n",
              "       6.38390332, 4.60023194, 5.7858663 , 4.98065705, 4.79781339,\n",
              "       5.75179672, 6.64970431, 3.79106147, 5.26210311, 5.0600642 ,\n",
              "       5.27013162, 4.06623272, 4.90212368, 3.99490224, 5.22160947,\n",
              "       5.40844904, 4.58314603, 4.22235112, 4.77844856, 4.81397478,\n",
              "       5.2093506 , 4.23445045, 4.98240195, 4.94957607, 4.87367336,\n",
              "       4.81078118, 3.13127098, 3.71024105, 5.64602669, 4.81458517,\n",
              "       3.62625388, 4.97601467, 4.81222546, 4.45918261, 5.63725973,\n",
              "       6.18903571, 2.48233693, 4.26886431, 4.33422524, 4.90868267,\n",
              "       5.18281382, 3.47607563])"
            ]
          },
          "metadata": {},
          "execution_count": 122
        }
      ]
    },
    {
      "cell_type": "markdown",
      "metadata": {
        "id": "9adbc269-68cb-4a12-a10a-d5556ee9c91d"
      },
      "source": [
        "### Discussion\n",
        "\n",
        "* Are we done?\n",
        "* What did we predict?\n",
        "* How would you interpret these predictions?\n"
      ]
    },
    {
      "cell_type": "markdown",
      "metadata": {
        "id": "340d3011-10f9-4ad6-98a6-c236d1f1aeef"
      },
      "source": [
        "#### Apply inverse transformations to be able to use these in a Regression context\n"
      ]
    },
    {
      "cell_type": "markdown",
      "metadata": {
        "id": "eefd944e-6c31-4ec3-bc9e-a15a561127f2"
      },
      "source": [
        "Every transformation has an inverse transformation. The inverse transformation of $f(x) = \\sqrt{x}$ is $f^{-1}(x) = x^2$, for example. Box cox has an inverse transformation as well: notice that we have to pass in the lambda value that we found from before:\n"
      ]
    },
    {
      "cell_type": "code",
      "metadata": {
        "id": "7a5dd78d-f7a5-4e19-a873-2aba08862acc"
      },
      "outputs": [],
      "source": [
        "from scipy.special import inv_boxcox"
      ],
      "execution_count": 123
    },
    {
      "cell_type": "code",
      "metadata": {
        "id": "345a27f8-de2b-4165-a7b2-5c8c5b7f219d",
        "colab": {
          "base_uri": "https://localhost:8080/"
        },
        "outputId": "7d0df0c7-7041-41f0-d68e-42e3bed4394e"
      },
      "outputs": [
        {
          "output_type": "execute_result",
          "data": {
            "text/plain": [
              "array([24. , 21.6, 34.7, 33.4, 36.2, 28.7, 22.9, 27.1, 16.5, 18.9])"
            ]
          },
          "metadata": {},
          "execution_count": 124
        }
      ],
      "source": [
        "inv_boxcox(boxcox_medv, lam)[:10]"
      ],
      "execution_count": 124
    },
    {
      "cell_type": "code",
      "metadata": {
        "id": "ff2071f7-74b3-44c2-9f41-196064c025e2",
        "colab": {
          "base_uri": "https://localhost:8080/"
        },
        "outputId": "11954830-6bf5-4d61-a58e-680796e9bf91"
      },
      "outputs": [
        {
          "output_type": "execute_result",
          "data": {
            "text/plain": [
              "array([24. , 21.6, 34.7, 33.4, 36.2, 28.7, 22.9, 27.1, 16.5, 18.9])"
            ]
          },
          "metadata": {},
          "execution_count": 125
        }
      ],
      "source": [
        "boston_data['MEDV'].values[:10]"
      ],
      "execution_count": 125
    },
    {
      "cell_type": "markdown",
      "metadata": {
        "id": "1bb07f06-7140-44a9-8c8f-d53121d87ffe"
      },
      "source": [
        "Exactly the same, as we would hope!\n"
      ]
    },
    {
      "cell_type": "markdown",
      "metadata": {
        "id": "0a6e6894-29c3-4270-a487-f36bc5cfcb9e"
      },
      "source": [
        "### Exercise:\n",
        "\n",
        "1. Apply the appropriate inverse transformation to `y_pred_bc`.\n",
        "2. Calculate the $R^2$ using the result of this inverse transformation and `y_test`.  \n",
        "\n",
        "**Hint:** Use the **inv_boxcox()** function to get the transformed predicted values\n"
      ]
    },
    {
      "cell_type": "code",
      "metadata": {
        "id": "7d97f988-b4e1-44c4-bd95-ed104289edf6",
        "colab": {
          "base_uri": "https://localhost:8080/"
        },
        "outputId": "2e5aff8f-04af-447d-cffc-1a22b685b3d1"
      },
      "outputs": [
        {
          "output_type": "execute_result",
          "data": {
            "text/plain": [
              "0.8884878245852517"
            ]
          },
          "metadata": {},
          "execution_count": 126
        }
      ],
      "source": [
        "#Enter your code here\n",
        "y_pred_tran = inv_boxcox(y_pred_bc,lam2)\n",
        "r2_score(y_test,y_pred_tran)"
      ],
      "execution_count": 126
    },
    {
      "cell_type": "markdown",
      "metadata": {
        "id": "be5c5121-db8e-4513-a3f7-ee6e856ecba4"
      },
      "source": [
        "<details><summary>Click here for a sample python solution</summary>\n",
        "\n",
        "```python\n",
        "y_pred_tran = inv_boxcox(y_pred_bc,lam2)\n",
        "r2_score(y_test,y_pred_tran)\n",
        "\n",
        "```\n"
      ]
    },
    {
      "cell_type": "markdown",
      "metadata": {
        "id": "d99e1d58-9d1b-4f6f-b4ef-5e425b5502f0"
      },
      "source": [
        "## Practice Exercise:\n",
        "\n",
        "### Determine the R^2 of a LinearRegression without the box cox transformation.\n"
      ]
    },
    {
      "cell_type": "code",
      "metadata": {
        "id": "e7732c59-8c07-45aa-b597-0e34df8d4f7c",
        "colab": {
          "base_uri": "https://localhost:8080/"
        },
        "outputId": "edb783ae-93eb-4e3a-dc29-d335ee40bce5"
      },
      "outputs": [
        {
          "output_type": "execute_result",
          "data": {
            "text/plain": [
              "0.8689110469231023"
            ]
          },
          "metadata": {},
          "execution_count": 127
        }
      ],
      "source": [
        "# Enter your code here\n",
        "lr = LinearRegression()\n",
        "lr.fit(X_train_s,y_train)\n",
        "lr_pred = lr.predict(X_test_s)\n",
        "r2_score(y_test,lr_pred)\n"
      ],
      "execution_count": 127
    }
  ],
  "metadata": {
    "kernelspec": {
      "name": "python3",
      "display_name": "Python 3 (ipykernel)",
      "language": "python"
    },
    "language_info": {
      "name": "python",
      "version": "3.11.9",
      "mimetype": "text/x-python",
      "codemirror_mode": {
        "name": "ipython",
        "version": 3
      },
      "pygments_lexer": "ipython3",
      "nbconvert_exporter": "python",
      "file_extension": ".py"
    },
    "prev_pub_hash": "8ff7d2bd51414f66643239307dd66c2b4194e394754faa9094ec58484e4c02d3",
    "colab": {
      "provenance": []
    }
  },
  "nbformat": 4,
  "nbformat_minor": 0
}